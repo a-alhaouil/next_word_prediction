{
 "nbformat": 4,
 "nbformat_minor": 0,
 "metadata": {
  "accelerator": "GPU",
  "colab": {
   "name": "Next-Word Prediction using Universal Sentence Encoder.ipynb",
   "provenance": [],
   "collapsed_sections": []
  },
  "kernelspec": {
   "display_name": "Python 3 (ipykernel)",
   "name": "python3",
   "language": "python"
  }
 },
 "cells": [
  {
   "cell_type": "markdown",
   "metadata": {
    "id": "Zavljtkc2Xsv"
   },
   "source": "# **Google drive for local storage**\n"
  },
  {
   "cell_type": "markdown",
   "metadata": {
    "id": "k_Go7GAGSvkw"
   },
   "source": [
    "_NB: All comments are written to facilitate smooth evaluation of the model, that the **Current User** may be less fatigued and see beauty in the good work._\n",
    "\n",
    "Uncomment text under **PREVIEW OUTPUT** to further scrutinize."
   ]
  },
  {
   "metadata": {
    "ExecuteTime": {
     "end_time": "2024-06-05T00:58:56.524120Z",
     "start_time": "2024-06-05T00:58:45.207645Z"
    }
   },
   "cell_type": "code",
   "source": [
    "# import gdown\n",
    "# \n",
    "# url = 'https://drive.google.com/uc?id=1YTBR7FiXssaKXHhOZbUbwoWw6jzQxxKW'\n",
    "# output = 'corpus.txt'\n",
    "# gdown.download(url, output, quiet=False)\n"
   ],
   "outputs": [
    {
     "name": "stderr",
     "output_type": "stream",
     "text": [
      "Downloading...\n",
      "From: https://drive.google.com/uc?id=1YTBR7FiXssaKXHhOZbUbwoWw6jzQxxKW\n",
      "To: C:\\Users\\abdes\\PycharmProjects\\predict_search\\corpus.txt\n",
      "100%|██████████| 7.55M/7.55M [00:05<00:00, 1.42MB/s]\n"
     ]
    },
    {
     "data": {
      "text/plain": [
       "'corpus.txt'"
      ]
     },
     "execution_count": 3,
     "metadata": {},
     "output_type": "execute_result"
    }
   ],
   "execution_count": 3
  },
  {
   "cell_type": "markdown",
   "metadata": {
    "id": "t_qUksc3r3KX"
   },
   "source": [
    "# **Import ***"
   ]
  },
  {
   "cell_type": "code",
   "metadata": {
    "id": "4d9_NB3vpwG8",
    "ExecuteTime": {
     "end_time": "2024-06-05T22:46:19.629347Z",
     "start_time": "2024-06-05T22:46:19.624678Z"
    }
   },
   "source": [
    "import warnings\n",
    "warnings.filterwarnings('ignore', category=DeprecationWarning)\n",
    "\n",
    "import os\n",
    "import re\n",
    "import gdown\n",
    "import numpy\n",
    "import string\n",
    "import numpy as np\n",
    "import pandas as pd\n",
    "import seaborn as sns\n",
    "import tensorflow as tf\n",
    "from absl import logging\n",
    "import tensorflow_hub as hub\n",
    "from tensorflow import keras\n",
    "import matplotlib.pyplot as plt\n",
    "from keras.models import Sequential\n",
    "import tensorflow.keras.backend as K\n",
    "from keras.layers import LSTM\n",
    "from keras.layers import Dense, Activation\n",
    "from keras.callbacks import LambdaCallback\n",
    "from tensorflow.keras.utils import get_file\n",
    "from tensorflow.keras.layers import Embedding \n",
    "from sklearn.model_selection import train_test_split\n",
    "from sklearn.feature_extraction.text import TfidfVectorizer\n",
    "from sklearn.metrics.pairwise import cosine_similarity\n",
    "from sklearn.decomposition import TruncatedSVD\n",
    "from scipy.stats import spearmanr\n",
    "from sklearn.metrics import mean_squared_error"
   ],
   "outputs": [],
   "execution_count": 11
  },
  {
   "metadata": {
    "ExecuteTime": {
     "end_time": "2024-06-05T22:46:32.878881Z",
     "start_time": "2024-06-05T22:46:32.872485Z"
    }
   },
   "cell_type": "code",
   "source": [
    "# Suppress TensorFlow warnings\n",
    "import tensorflow as tf\n",
    "tf.get_logger().setLevel('ERROR')\n"
   ],
   "outputs": [],
   "execution_count": 12
  },
  {
   "cell_type": "markdown",
   "metadata": {
    "id": "CHNTF6AHsQUL"
   },
   "source": [
    "## **Data preparation - _Generating Corpus_**"
   ]
  },
  {
   "cell_type": "code",
   "metadata": {
    "colab": {
     "base_uri": "https://localhost:8080/"
    },
    "id": "fb2U0kS38MRf",
    "outputId": "190eabff-3a0b-4273-fed7-2f03de19baf9",
    "ExecuteTime": {
     "end_time": "2024-06-05T22:47:41.216186Z",
     "start_time": "2024-06-05T22:47:41.164136Z"
    }
   },
   "source": [
    "\n",
    "# Download data from Google drive\n",
    "\n",
    "'''\n",
    "\n",
    "ORIGINAL DATASET URL:\n",
    "    https://raw.githubusercontent.com/maxim5/stanford-tensorflow-tutorials/master/data/arxiv_abstracts.txt\n",
    "\n",
    "'''\n",
    "\n",
    "url = ' https://drive.google.com/uc?id=1YTBR7FiXssaKXHhOZbUbwoWw6jzQxxKW'\n",
    "output = 'corpus.txt'\n",
    "# gdown.download(url, output, quiet=False)\n",
    "\n",
    "# sentence_length = 40\n",
    "\n",
    "# Read local file from directory\n",
    "with open('corpus.txt') as subject:\n",
    "  cache = subject.readlines()\n",
    "translator = str.maketrans('', '', string.punctuation) # Remove punctuation\n",
    "lines = [doc.lower().translate(translator) for doc in cache] # Switch to lower case"
   ],
   "outputs": [],
   "execution_count": 13
  },
  {
   "metadata": {
    "ExecuteTime": {
     "end_time": "2024-06-05T22:47:41.655751Z",
     "start_time": "2024-06-05T22:47:41.650730Z"
    }
   },
   "cell_type": "code",
   "source": [
    "# Sample the data\n",
    "sample_size = 1000  # Adjust this number as needed\n",
    "lines = lines[:sample_size]"
   ],
   "outputs": [],
   "execution_count": 14
  },
  {
   "cell_type": "code",
   "metadata": {
    "id": "yKMvgmMBEF7o",
    "ExecuteTime": {
     "end_time": "2024-06-05T22:47:42.260891Z",
     "start_time": "2024-06-05T22:47:42.257491Z"
    }
   },
   "source": [
    "# PREVIEW OUTPUT ::\n",
    "\n",
    "# print(lines[0][:100])\n",
    "# len(lines)"
   ],
   "outputs": [],
   "execution_count": 15
  },
  {
   "cell_type": "code",
   "metadata": {
    "id": "AKFp-u8951-g",
    "ExecuteTime": {
     "end_time": "2024-06-05T22:47:43.074855Z",
     "start_time": "2024-06-05T22:47:43.056279Z"
    }
   },
   "source": [
    "# Generate an list of single/independent words\n",
    "\n",
    "vocabulary = list(set(' '.join(lines).replace('\\n','').split(' ')))\n",
    "primary_store = {}\n",
    "for strings, texts in enumerate(vocabulary):\n",
    "  primary_store[texts] = strings"
   ],
   "outputs": [],
   "execution_count": 16
  },
  {
   "metadata": {
    "ExecuteTime": {
     "end_time": "2024-06-05T22:47:44.323574Z",
     "start_time": "2024-06-05T22:47:44.320597Z"
    }
   },
   "cell_type": "code",
   "source": "",
   "outputs": [],
   "execution_count": 16
  },
  {
   "cell_type": "code",
   "metadata": {
    "id": "s7pOLvIhEZZE",
    "ExecuteTime": {
     "end_time": "2024-06-05T22:47:44.701210Z",
     "start_time": "2024-06-05T22:47:44.698298Z"
    }
   },
   "source": [
    "# PREVIEW OUTPUT ::\n",
    "\n",
    "# print(vocabulary[:50])\n",
    "# len(vocabulary)"
   ],
   "outputs": [],
   "execution_count": 17
  },
  {
   "cell_type": "code",
   "metadata": {
    "id": "18Aw7bxIHLrW",
    "ExecuteTime": {
     "end_time": "2024-06-05T22:47:45.464337Z",
     "start_time": "2024-06-05T22:47:45.253258Z"
    }
   },
   "source": [
    "# Splitting data into Train sets and test sets\n",
    "\n",
    "X = [] \n",
    "y = []\n",
    "\n",
    "for c in lines:\n",
    "  xxxx = c.replace('\\n','').split(' ')\n",
    "  X.append(' '.join(xxxx[:-1])) # X from the corpus\n",
    "\n",
    "  yyyy = [0 for i in range(len(vocabulary))] # Generate Y from the Vocabulary\n",
    "  # yyyy[primary_store[xxxx[-1]]] = 1\n",
    "  yyyy[primary_store[xxxx[-1]]] = 1\n",
    "  y.append(yyyy)\n",
    "\n",
    "X_train, X_test, y_train, y_test = train_test_split(X, y, test_size=0.25, random_state=42)\n",
    "y_test = numpy.array(y_test)\n",
    "y_train = numpy.array(y_train)"
   ],
   "outputs": [],
   "execution_count": 18
  },
  {
   "cell_type": "code",
   "metadata": {
    "id": "KVzeMJVLK-L3",
    "ExecuteTime": {
     "end_time": "2024-06-05T22:47:45.896975Z",
     "start_time": "2024-06-05T22:47:45.893550Z"
    }
   },
   "source": [
    "# PREVIEW OUTPUT ::\n",
    "\n",
    "# print(X_train[:10])\n",
    "# print(y_train[:10])\n",
    "# print(X_test[:10])\n",
    "# print(y_test[:10])"
   ],
   "outputs": [],
   "execution_count": 19
  },
  {
   "cell_type": "markdown",
   "metadata": {
    "id": "E-ZoLdTpMBtg"
   },
   "source": [
    "## **Embeddings!**"
   ]
  },
  {
   "cell_type": "code",
   "metadata": {
    "id": "PLwEZ5NzMA20",
    "ExecuteTime": {
     "end_time": "2024-06-05T22:47:50.773420Z",
     "start_time": "2024-06-05T22:47:46.761482Z"
    }
   },
   "source": [
    "# Import the Universal Sentence Encoder's TF Hub module (Here we're making use of version 4)\n",
    "# This will take a while but won't be long :)\n",
    "\n",
    "module_url = \"https://tfhub.dev/google/universal-sentence-encoder/4\"  \n",
    "appreciate = hub.load(module_url)\n",
    "\n",
    "# Making it easier - Function for embedding\n",
    "def embed(goodness):\n",
    "  return appreciate(goodness)\n"
   ],
   "outputs": [],
   "execution_count": 20
  },
  {
   "cell_type": "code",
   "metadata": {
    "id": "1MVzWpcONq7p",
    "ExecuteTime": {
     "end_time": "2024-06-05T22:47:51.779751Z",
     "start_time": "2024-06-05T22:47:51.776660Z"
    }
   },
   "source": [
    "# REVIEW OUTPUT ::\n",
    "\n",
    "# appreciate.variables"
   ],
   "outputs": [],
   "execution_count": 21
  },
  {
   "cell_type": "code",
   "metadata": {
    "id": "YFVpJJ-kOgJK",
    "ExecuteTime": {
     "end_time": "2024-06-05T22:47:53.179289Z",
     "start_time": "2024-06-05T22:47:52.552251Z"
    }
   },
   "source": [
    "# Wrapping up with the U-S-E\n",
    "\n",
    "X_train = embed(X_train)\n",
    "X_test = embed(X_test)\n",
    "X_train = X_train.numpy()\n",
    "X_test = X_test.numpy()"
   ],
   "outputs": [],
   "execution_count": 22
  },
  {
   "cell_type": "code",
   "metadata": {
    "id": "uDz7WwWLOzwh",
    "ExecuteTime": {
     "end_time": "2024-06-05T22:47:53.183078Z",
     "start_time": "2024-06-05T22:47:53.180294Z"
    }
   },
   "source": [
    "# PREVIEW OUTPUT ::\n",
    "\n",
    "# print(X_train[:10])\n",
    "# print(y_train[:10])\n",
    "# print(X_test[:10])\n",
    "# print(y_test[:10])\n",
    "# print(X_train.shape, X_test.shape, y_test.shape, y_train.shape)"
   ],
   "outputs": [],
   "execution_count": 23
  },
  {
   "cell_type": "markdown",
   "metadata": {
    "id": "rk1zrMu1Q_QW"
   },
   "source": [
    "# **Building the model**"
   ]
  },
  {
   "cell_type": "code",
   "metadata": {
    "colab": {
     "base_uri": "https://localhost:8080/"
    },
    "id": "NE2cmc3eQ9qk",
    "outputId": "f4eb968e-0843-4a1a-c8e3-a81587620d7f",
    "ExecuteTime": {
     "end_time": "2024-06-05T22:47:54.596949Z",
     "start_time": "2024-06-05T22:47:54.533950Z"
    }
   },
   "source": [
    "model = Sequential()\n",
    "# model.add(Embedding(input_dim=len(vocabulary), output_dim=100))\n",
    "model = Sequential()\n",
    "# model.add(LSTM(units=100, input_shape=[512]))\n",
    "model.add(Dense(512, input_shape=[512], activation = 'relu'))\n",
    "model.add(Dense(units=len(vocabulary), activation = 'softmax'))\n",
    "model.compile(loss='categorical_crossentropy', optimizer='adam', metrics=['acc'])\n",
    "model.summary()"
   ],
   "outputs": [
    {
     "name": "stderr",
     "output_type": "stream",
     "text": [
      "C:\\env\\Lib\\site-packages\\keras\\src\\layers\\core\\dense.py:87: UserWarning: Do not pass an `input_shape`/`input_dim` argument to a layer. When using Sequential models, prefer using an `Input(shape)` object as the first layer in the model instead.\n",
      "  super().__init__(activity_regularizer=activity_regularizer, **kwargs)\n"
     ]
    },
    {
     "data": {
      "text/plain": [
       "\u001B[1mModel: \"sequential_1\"\u001B[0m\n"
      ],
      "text/html": [
       "<pre style=\"white-space:pre;overflow-x:auto;line-height:normal;font-family:Menlo,'DejaVu Sans Mono',consolas,'Courier New',monospace\"><span style=\"font-weight: bold\">Model: \"sequential_1\"</span>\n",
       "</pre>\n"
      ]
     },
     "metadata": {},
     "output_type": "display_data"
    },
    {
     "data": {
      "text/plain": [
       "┏━━━━━━━━━━━━━━━━━━━━━━━━━━━━━━━━━┳━━━━━━━━━━━━━━━━━━━━━━━━┳━━━━━━━━━━━━━━━┓\n",
       "┃\u001B[1m \u001B[0m\u001B[1mLayer (type)                   \u001B[0m\u001B[1m \u001B[0m┃\u001B[1m \u001B[0m\u001B[1mOutput Shape          \u001B[0m\u001B[1m \u001B[0m┃\u001B[1m \u001B[0m\u001B[1m      Param #\u001B[0m\u001B[1m \u001B[0m┃\n",
       "┡━━━━━━━━━━━━━━━━━━━━━━━━━━━━━━━━━╇━━━━━━━━━━━━━━━━━━━━━━━━╇━━━━━━━━━━━━━━━┩\n",
       "│ dense (\u001B[38;5;33mDense\u001B[0m)                   │ (\u001B[38;5;45mNone\u001B[0m, \u001B[38;5;34m512\u001B[0m)            │       \u001B[38;5;34m262,656\u001B[0m │\n",
       "├─────────────────────────────────┼────────────────────────┼───────────────┤\n",
       "│ dense_1 (\u001B[38;5;33mDense\u001B[0m)                 │ (\u001B[38;5;45mNone\u001B[0m, \u001B[38;5;34m2694\u001B[0m)           │     \u001B[38;5;34m1,382,022\u001B[0m │\n",
       "└─────────────────────────────────┴────────────────────────┴───────────────┘\n"
      ],
      "text/html": [
       "<pre style=\"white-space:pre;overflow-x:auto;line-height:normal;font-family:Menlo,'DejaVu Sans Mono',consolas,'Courier New',monospace\">┏━━━━━━━━━━━━━━━━━━━━━━━━━━━━━━━━━┳━━━━━━━━━━━━━━━━━━━━━━━━┳━━━━━━━━━━━━━━━┓\n",
       "┃<span style=\"font-weight: bold\"> Layer (type)                    </span>┃<span style=\"font-weight: bold\"> Output Shape           </span>┃<span style=\"font-weight: bold\">       Param # </span>┃\n",
       "┡━━━━━━━━━━━━━━━━━━━━━━━━━━━━━━━━━╇━━━━━━━━━━━━━━━━━━━━━━━━╇━━━━━━━━━━━━━━━┩\n",
       "│ dense (<span style=\"color: #0087ff; text-decoration-color: #0087ff\">Dense</span>)                   │ (<span style=\"color: #00d7ff; text-decoration-color: #00d7ff\">None</span>, <span style=\"color: #00af00; text-decoration-color: #00af00\">512</span>)            │       <span style=\"color: #00af00; text-decoration-color: #00af00\">262,656</span> │\n",
       "├─────────────────────────────────┼────────────────────────┼───────────────┤\n",
       "│ dense_1 (<span style=\"color: #0087ff; text-decoration-color: #0087ff\">Dense</span>)                 │ (<span style=\"color: #00d7ff; text-decoration-color: #00d7ff\">None</span>, <span style=\"color: #00af00; text-decoration-color: #00af00\">2694</span>)           │     <span style=\"color: #00af00; text-decoration-color: #00af00\">1,382,022</span> │\n",
       "└─────────────────────────────────┴────────────────────────┴───────────────┘\n",
       "</pre>\n"
      ]
     },
     "metadata": {},
     "output_type": "display_data"
    },
    {
     "data": {
      "text/plain": [
       "\u001B[1m Total params: \u001B[0m\u001B[38;5;34m1,644,678\u001B[0m (6.27 MB)\n"
      ],
      "text/html": [
       "<pre style=\"white-space:pre;overflow-x:auto;line-height:normal;font-family:Menlo,'DejaVu Sans Mono',consolas,'Courier New',monospace\"><span style=\"font-weight: bold\"> Total params: </span><span style=\"color: #00af00; text-decoration-color: #00af00\">1,644,678</span> (6.27 MB)\n",
       "</pre>\n"
      ]
     },
     "metadata": {},
     "output_type": "display_data"
    },
    {
     "data": {
      "text/plain": [
       "\u001B[1m Trainable params: \u001B[0m\u001B[38;5;34m1,644,678\u001B[0m (6.27 MB)\n"
      ],
      "text/html": [
       "<pre style=\"white-space:pre;overflow-x:auto;line-height:normal;font-family:Menlo,'DejaVu Sans Mono',consolas,'Courier New',monospace\"><span style=\"font-weight: bold\"> Trainable params: </span><span style=\"color: #00af00; text-decoration-color: #00af00\">1,644,678</span> (6.27 MB)\n",
       "</pre>\n"
      ]
     },
     "metadata": {},
     "output_type": "display_data"
    },
    {
     "data": {
      "text/plain": [
       "\u001B[1m Non-trainable params: \u001B[0m\u001B[38;5;34m0\u001B[0m (0.00 B)\n"
      ],
      "text/html": [
       "<pre style=\"white-space:pre;overflow-x:auto;line-height:normal;font-family:Menlo,'DejaVu Sans Mono',consolas,'Courier New',monospace\"><span style=\"font-weight: bold\"> Non-trainable params: </span><span style=\"color: #00af00; text-decoration-color: #00af00\">0</span> (0.00 B)\n",
       "</pre>\n"
      ]
     },
     "metadata": {},
     "output_type": "display_data"
    }
   ],
   "execution_count": 24
  },
  {
   "cell_type": "code",
   "metadata": {
    "colab": {
     "base_uri": "https://localhost:8080/"
    },
    "id": "12j8kuJWUAKJ",
    "outputId": "315baab4-59dc-438f-b6fb-356ccd458339",
    "ExecuteTime": {
     "end_time": "2024-06-05T22:48:09.307299Z",
     "start_time": "2024-06-05T22:48:07.242356Z"
    }
   },
   "source": [
    "# Training the model. \n",
    "\n",
    "model.fit(X_train, y_train, batch_size=512, shuffle=True, epochs=20, validation_data=(X_test, y_test), callbacks=[LambdaCallback()])"
   ],
   "outputs": [
    {
     "name": "stdout",
     "output_type": "stream",
     "text": [
      "Epoch 1/20\n",
      "\u001B[1m2/2\u001B[0m \u001B[32m━━━━━━━━━━━━━━━━━━━━\u001B[0m\u001B[37m\u001B[0m \u001B[1m1s\u001B[0m 135ms/step - acc: 0.0080 - loss: 7.8925 - val_acc: 0.0800 - val_loss: 7.8398\n",
      "Epoch 2/20\n",
      "\u001B[1m2/2\u001B[0m \u001B[32m━━━━━━━━━━━━━━━━━━━━\u001B[0m\u001B[37m\u001B[0m \u001B[1m0s\u001B[0m 39ms/step - acc: 0.1530 - loss: 7.8250 - val_acc: 0.1240 - val_loss: 7.7571\n",
      "Epoch 3/20\n",
      "\u001B[1m2/2\u001B[0m \u001B[32m━━━━━━━━━━━━━━━━━━━━\u001B[0m\u001B[37m\u001B[0m \u001B[1m0s\u001B[0m 38ms/step - acc: 0.1785 - loss: 7.7334 - val_acc: 0.1040 - val_loss: 7.6313\n",
      "Epoch 4/20\n",
      "\u001B[1m2/2\u001B[0m \u001B[32m━━━━━━━━━━━━━━━━━━━━\u001B[0m\u001B[37m\u001B[0m \u001B[1m0s\u001B[0m 35ms/step - acc: 0.1587 - loss: 7.5983 - val_acc: 0.0840 - val_loss: 7.4480\n",
      "Epoch 5/20\n",
      "\u001B[1m2/2\u001B[0m \u001B[32m━━━━━━━━━━━━━━━━━━━━\u001B[0m\u001B[37m\u001B[0m \u001B[1m0s\u001B[0m 37ms/step - acc: 0.1076 - loss: 7.4044 - val_acc: 0.0640 - val_loss: 7.1953\n",
      "Epoch 6/20\n",
      "\u001B[1m2/2\u001B[0m \u001B[32m━━━━━━━━━━━━━━━━━━━━\u001B[0m\u001B[37m\u001B[0m \u001B[1m0s\u001B[0m 36ms/step - acc: 0.0829 - loss: 7.1386 - val_acc: 0.0640 - val_loss: 6.8644\n",
      "Epoch 7/20\n",
      "\u001B[1m2/2\u001B[0m \u001B[32m━━━━━━━━━━━━━━━━━━━━\u001B[0m\u001B[37m\u001B[0m \u001B[1m0s\u001B[0m 37ms/step - acc: 0.0855 - loss: 6.7961 - val_acc: 0.0640 - val_loss: 6.4505\n",
      "Epoch 8/20\n",
      "\u001B[1m2/2\u001B[0m \u001B[32m━━━━━━━━━━━━━━━━━━━━\u001B[0m\u001B[37m\u001B[0m \u001B[1m0s\u001B[0m 35ms/step - acc: 0.0748 - loss: 6.3709 - val_acc: 0.0240 - val_loss: 5.9615\n",
      "Epoch 9/20\n",
      "\u001B[1m2/2\u001B[0m \u001B[32m━━━━━━━━━━━━━━━━━━━━\u001B[0m\u001B[37m\u001B[0m \u001B[1m0s\u001B[0m 37ms/step - acc: 0.0580 - loss: 5.8710 - val_acc: 0.0240 - val_loss: 5.4326\n",
      "Epoch 10/20\n",
      "\u001B[1m2/2\u001B[0m \u001B[32m━━━━━━━━━━━━━━━━━━━━\u001B[0m\u001B[37m\u001B[0m \u001B[1m0s\u001B[0m 35ms/step - acc: 0.0586 - loss: 5.3397 - val_acc: 0.0240 - val_loss: 4.9405\n",
      "Epoch 11/20\n",
      "\u001B[1m2/2\u001B[0m \u001B[32m━━━━━━━━━━━━━━━━━━━━\u001B[0m\u001B[37m\u001B[0m \u001B[1m0s\u001B[0m 36ms/step - acc: 0.0573 - loss: 4.8441 - val_acc: 0.0240 - val_loss: 4.5823\n",
      "Epoch 12/20\n",
      "\u001B[1m2/2\u001B[0m \u001B[32m━━━━━━━━━━━━━━━━━━━━\u001B[0m\u001B[37m\u001B[0m \u001B[1m0s\u001B[0m 36ms/step - acc: 0.0612 - loss: 4.4837 - val_acc: 0.0240 - val_loss: 4.3908\n",
      "Epoch 13/20\n",
      "\u001B[1m2/2\u001B[0m \u001B[32m━━━━━━━━━━━━━━━━━━━━\u001B[0m\u001B[37m\u001B[0m \u001B[1m0s\u001B[0m 35ms/step - acc: 0.0595 - loss: 4.2716 - val_acc: 0.0240 - val_loss: 4.3127\n",
      "Epoch 14/20\n",
      "\u001B[1m2/2\u001B[0m \u001B[32m━━━━━━━━━━━━━━━━━━━━\u001B[0m\u001B[37m\u001B[0m \u001B[1m0s\u001B[0m 36ms/step - acc: 0.0452 - loss: 4.1669 - val_acc: 0.0240 - val_loss: 4.2886\n",
      "Epoch 15/20\n",
      "\u001B[1m2/2\u001B[0m \u001B[32m━━━━━━━━━━━━━━━━━━━━\u001B[0m\u001B[37m\u001B[0m \u001B[1m0s\u001B[0m 36ms/step - acc: 0.0599 - loss: 4.1095 - val_acc: 0.0360 - val_loss: 4.2844\n",
      "Epoch 16/20\n",
      "\u001B[1m2/2\u001B[0m \u001B[32m━━━━━━━━━━━━━━━━━━━━\u001B[0m\u001B[37m\u001B[0m \u001B[1m0s\u001B[0m 35ms/step - acc: 0.0655 - loss: 4.0763 - val_acc: 0.0480 - val_loss: 4.2771\n",
      "Epoch 17/20\n",
      "\u001B[1m2/2\u001B[0m \u001B[32m━━━━━━━━━━━━━━━━━━━━\u001B[0m\u001B[37m\u001B[0m \u001B[1m0s\u001B[0m 36ms/step - acc: 0.0814 - loss: 4.0382 - val_acc: 0.0640 - val_loss: 4.2570\n",
      "Epoch 18/20\n",
      "\u001B[1m2/2\u001B[0m \u001B[32m━━━━━━━━━━━━━━━━━━━━\u001B[0m\u001B[37m\u001B[0m \u001B[1m0s\u001B[0m 36ms/step - acc: 0.1004 - loss: 4.0126 - val_acc: 0.0880 - val_loss: 4.2208\n",
      "Epoch 19/20\n",
      "\u001B[1m2/2\u001B[0m \u001B[32m━━━━━━━━━━━━━━━━━━━━\u001B[0m\u001B[37m\u001B[0m \u001B[1m0s\u001B[0m 34ms/step - acc: 0.1572 - loss: 3.9656 - val_acc: 0.0960 - val_loss: 4.1721\n",
      "Epoch 20/20\n",
      "\u001B[1m2/2\u001B[0m \u001B[32m━━━━━━━━━━━━━━━━━━━━\u001B[0m\u001B[37m\u001B[0m \u001B[1m0s\u001B[0m 37ms/step - acc: 0.1650 - loss: 3.9304 - val_acc: 0.1080 - val_loss: 4.1191\n"
     ]
    },
    {
     "data": {
      "text/plain": [
       "<keras.src.callbacks.history.History at 0x27360f8a2d0>"
      ]
     },
     "execution_count": 25,
     "metadata": {},
     "output_type": "execute_result"
    }
   ],
   "execution_count": 25
  },
  {
   "cell_type": "markdown",
   "metadata": {
    "id": "8Vzq-1bH0oOv"
   },
   "source": [
    "#**Unto the tests!**"
   ]
  },
  {
   "cell_type": "code",
   "metadata": {
    "id": "w4Jy3Hbi0nlK",
    "ExecuteTime": {
     "end_time": "2024-06-05T22:48:10.599085Z",
     "start_time": "2024-06-05T22:48:10.595587Z"
    }
   },
   "source": [
    "\n",
    "# Create function to predict and show detailed output\n",
    "\n",
    "def next_word(collection=[], extent=1):\n",
    "\n",
    "  for item in collection:\n",
    "    text = item\n",
    "    for i in range(extent):\n",
    "      prediction = model.predict(x=embed([item]).numpy())\n",
    "      idx = np.argmax(prediction[-1])\n",
    "      item += ' ' + vocabulary[idx]\n",
    "      \n",
    "      print(text + ' --> ' + item + '\\nNEXT WORD: ' + item.split(' ')[-1] + '\\n')"
   ],
   "outputs": [],
   "execution_count": 26
  },
  {
   "cell_type": "code",
   "metadata": {
    "colab": {
     "base_uri": "https://localhost:8080/"
    },
    "id": "W6_rGHmFYMKD",
    "outputId": "04a875dd-ca35-4cec-a8ad-d0038be14f00",
    "ExecuteTime": {
     "end_time": "2024-06-05T22:48:11.622628Z",
     "start_time": "2024-06-05T22:48:11.555870Z"
    }
   },
   "source": [
    "# Tests - please feel free to explore\n",
    "\n",
    "single_text = ['and some other essential']\n",
    "\n",
    "next_word(single_text)"
   ],
   "outputs": [
    {
     "name": "stdout",
     "output_type": "stream",
     "text": [
      "\u001B[1m1/1\u001B[0m \u001B[32m━━━━━━━━━━━━━━━━━━━━\u001B[0m\u001B[37m\u001B[0m \u001B[1m0s\u001B[0m 33ms/step\n",
      "and some other essential --> and some other essential networks\n",
      "NEXT WORD: networks\n",
      "\n"
     ]
    }
   ],
   "execution_count": 27
  },
  {
   "cell_type": "code",
   "metadata": {
    "colab": {
     "base_uri": "https://localhost:8080/"
    },
    "id": "4tZjEA0MX5pr",
    "outputId": "bd39eb2c-1dea-45cc-9c2c-5fa9ba81c3ec",
    "ExecuteTime": {
     "end_time": "2024-06-05T22:48:16.552972Z",
     "start_time": "2024-06-05T22:48:16.371252Z"
    }
   },
   "source": [
    "# Testing on a collection of words\n",
    "\n",
    "text_collection = ['deep convolutional', 'simple and effective', 'a nonconvex', 'a']\n",
    "\n",
    "next_word(text_collection)"
   ],
   "outputs": [
    {
     "name": "stdout",
     "output_type": "stream",
     "text": [
      "\u001B[1m1/1\u001B[0m \u001B[32m━━━━━━━━━━━━━━━━━━━━\u001B[0m\u001B[37m\u001B[0m \u001B[1m0s\u001B[0m 18ms/step\n",
      "deep convolutional --> deep convolutional networks\n",
      "NEXT WORD: networks\n",
      "\n",
      "\u001B[1m1/1\u001B[0m \u001B[32m━━━━━━━━━━━━━━━━━━━━\u001B[0m\u001B[37m\u001B[0m \u001B[1m0s\u001B[0m 16ms/step\n",
      "simple and effective --> simple and effective dataset\n",
      "NEXT WORD: dataset\n",
      "\n",
      "\u001B[1m1/1\u001B[0m \u001B[32m━━━━━━━━━━━━━━━━━━━━\u001B[0m\u001B[37m\u001B[0m \u001B[1m0s\u001B[0m 16ms/step\n",
      "a nonconvex --> a nonconvex networks\n",
      "NEXT WORD: networks\n",
      "\n",
      "\u001B[1m1/1\u001B[0m \u001B[32m━━━━━━━━━━━━━━━━━━━━\u001B[0m\u001B[37m\u001B[0m \u001B[1m0s\u001B[0m 17ms/step\n",
      "a --> a improvement\n",
      "NEXT WORD: improvement\n",
      "\n"
     ]
    }
   ],
   "execution_count": 28
  },
  {
   "cell_type": "markdown",
   "metadata": {
    "id": "vvhuISuHZfzZ"
   },
   "source": [
    "## **For the record**\n",
    "\n",
    "The Dataset is based on a Tensorflow tutorial from Stanford, so all predicted words will be based on Deep learning and Machine learning _common terms_.\n",
    "\n"
   ]
  },
  {
   "cell_type": "code",
   "metadata": {
    "colab": {
     "base_uri": "https://localhost:8080/"
    },
    "id": "dJTRmQh6aHSV",
    "outputId": "167ba863-38cc-470d-f560-17e53745cc62",
    "ExecuteTime": {
     "end_time": "2024-06-05T22:48:20.686490Z",
     "start_time": "2024-06-05T22:48:20.613486Z"
    }
   },
   "source": [
    "# Storing data\n",
    "vocabulary = numpy.array(vocabulary)\n",
    "numpy.save('./vocabulary.npy', vocabulary)\n",
    "model.save('./NWP-USE.keras')  # Use .keras extension"
   ],
   "outputs": [],
   "execution_count": 29
  },
  {
   "cell_type": "code",
   "metadata": {
    "id": "gxCntzMTaXQ3",
    "ExecuteTime": {
     "end_time": "2024-06-05T22:48:21.859597Z",
     "start_time": "2024-06-05T22:48:21.856910Z"
    }
   },
   "source": "",
   "outputs": [],
   "execution_count": 29
  },
  {
   "metadata": {},
   "cell_type": "markdown",
   "source": [
    "# Model Evalution\n",
    "### TF-IDF"
   ]
  },
  {
   "metadata": {
    "ExecuteTime": {
     "end_time": "2024-06-05T22:48:23.376494Z",
     "start_time": "2024-06-05T22:48:23.373012Z"
    }
   },
   "cell_type": "code",
   "source": [
    "# Load and preprocess the data (assuming 'lines' is a list of sentences)\n",
    "def load_and_preprocess_data(url, output):\n",
    "    gdown.download(url, output, quiet=False)\n",
    "    with open(output, 'r') as file:\n",
    "        lines = file.readlines()\n",
    "    translator = str.maketrans('', '', string.punctuation)\n",
    "    lines = [line.lower().translate(translator) for line in lines]\n",
    "    return lines"
   ],
   "outputs": [],
   "execution_count": 30
  },
  {
   "metadata": {
    "ExecuteTime": {
     "end_time": "2024-06-05T22:36:56.504611Z",
     "start_time": "2024-06-05T22:36:46.340131Z"
    }
   },
   "cell_type": "code",
   "source": [
    "url = 'https://drive.google.com/uc?id=1YTBR7FiXssaKXHhOZbUbwoWw6jzQxxKW'\n",
    "output = 'corpus.txt'\n",
    "lines = load_and_preprocess_data(url, output)"
   ],
   "outputs": [
    {
     "name": "stderr",
     "output_type": "stream",
     "text": [
      "Downloading...\n",
      "From: https://drive.google.com/uc?id=1YTBR7FiXssaKXHhOZbUbwoWw6jzQxxKW\n",
      "To: C:\\Users\\abdes\\PycharmProjects\\predict_search\\corpus.txt\n",
      "\n",
      "  0%|          | 0.00/7.55M [00:00<?, ?B/s]\u001B[A\n",
      "  7%|▋         | 524k/7.55M [00:00<00:10, 655kB/s]\u001B[A\n",
      " 14%|█▍        | 1.05M/7.55M [00:01<00:08, 763kB/s]\u001B[A\n",
      " 21%|██        | 1.57M/7.55M [00:02<00:10, 589kB/s]\u001B[A\n",
      " 28%|██▊       | 2.10M/7.55M [00:03<00:07, 700kB/s]\u001B[A\n",
      " 35%|███▍      | 2.62M/7.55M [00:03<00:06, 733kB/s]\u001B[A\n",
      " 42%|████▏     | 3.15M/7.55M [00:04<00:05, 776kB/s]\u001B[A\n",
      " 42%|████▏     | 3.15M/7.55M [00:19<00:09, 445kB/s]\u001B[A\n",
      " 56%|█████▌    | 4.19M/7.55M [00:05<00:04, 806kB/s]\u001B[A\n",
      " 63%|██████▎   | 4.72M/7.55M [00:06<00:03, 865kB/s]\u001B[A\n",
      " 69%|██████▉   | 5.24M/7.55M [00:06<00:02, 791kB/s]\u001B[A\n",
      " 76%|███████▋  | 5.77M/7.55M [00:07<00:01, 911kB/s]\u001B[A\n",
      " 83%|████████▎ | 6.29M/7.55M [00:07<00:01, 1.04MB/s]\u001B[A\n",
      " 90%|█████████ | 6.82M/7.55M [00:08<00:00, 1.11MB/s]\u001B[A\n",
      " 97%|█████████▋| 7.34M/7.55M [00:08<00:00, 1.12MB/s]\u001B[A\n",
      "100%|██████████| 7.55M/7.55M [00:08<00:00, 866kB/s] \u001B[A\n"
     ]
    }
   ],
   "execution_count": 23
  },
  {
   "metadata": {
    "ExecuteTime": {
     "end_time": "2024-06-05T22:48:27.396601Z",
     "start_time": "2024-06-05T22:48:27.392797Z"
    }
   },
   "cell_type": "code",
   "source": "import time\n",
   "outputs": [],
   "execution_count": 31
  },
  {
   "metadata": {
    "ExecuteTime": {
     "end_time": "2024-06-05T22:48:29.068820Z",
     "start_time": "2024-06-05T22:48:28.967630Z"
    }
   },
   "cell_type": "code",
   "source": [
    "start_time = time.time()\n",
    "# Calculate cosine similarities using TF-IDF\n",
    "tfidf_vectorizer = TfidfVectorizer()\n",
    "tfidf_matrix = tfidf_vectorizer.fit_transform(lines)\n",
    "cosine_similarities_tfidf = cosine_similarity(tfidf_matrix, tfidf_matrix)"
   ],
   "outputs": [],
   "execution_count": 32
  },
  {
   "metadata": {
    "ExecuteTime": {
     "end_time": "2024-06-05T22:48:33.721899Z",
     "start_time": "2024-06-05T22:48:29.782552Z"
    }
   },
   "cell_type": "code",
   "source": [
    "# Calculate embedding similarities using Universal Sentence Encoder\n",
    "module_url = \"https://tfhub.dev/google/universal-sentence-encoder/4\"\n",
    "embed = hub.load(module_url)"
   ],
   "outputs": [],
   "execution_count": 33
  },
  {
   "metadata": {
    "ExecuteTime": {
     "end_time": "2024-06-05T22:58:51.241780Z",
     "start_time": "2024-06-05T22:58:51.238582Z"
    }
   },
   "cell_type": "code",
   "source": [
    "\n",
    "def calculate_embedding_similarity(lines):\n",
    "    embeddings = embed(lines).numpy()\n",
    "    cosine_similarities_embed = cosine_similarity(embeddings, embeddings)\n",
    "    return cosine_similarities_embed\n"
   ],
   "outputs": [],
   "execution_count": 44
  },
  {
   "metadata": {},
   "cell_type": "code",
   "outputs": [],
   "execution_count": null,
   "source": ""
  },
  {
   "metadata": {
    "ExecuteTime": {
     "end_time": "2024-06-05T22:49:08.317535Z",
     "start_time": "2024-06-05T22:49:04.816211Z"
    }
   },
   "cell_type": "code",
   "source": [
    "# Latent Semantic Analysis (LSA)\n",
    "# Calculate LSA similarities\n",
    "svd = TruncatedSVD(n_components=100)\n",
    "lsa_matrix = svd.fit_transform(tfidf_matrix)\n",
    "cosine_similarities_lsa = cosine_similarity(lsa_matrix, lsa_matrix)"
   ],
   "outputs": [],
   "execution_count": 35
  },
  {
   "metadata": {
    "ExecuteTime": {
     "end_time": "2024-06-05T23:00:12.755289Z",
     "start_time": "2024-06-05T23:00:12.459294Z"
    }
   },
   "cell_type": "code",
   "source": [
    "cosine_similarities_embed = calculate_embedding_similarity(lines)\n",
    "\n",
    "cosine_similarities_lsa = cosine_similarity(lsa_matrix, lsa_matrix)\n",
    "print(f\"LSA Cosine Similarity calculation time: {time.time() - start_time} seconds\")"
   ],
   "outputs": [
    {
     "name": "stdout",
     "output_type": "stream",
     "text": [
      "LSA Cosine Similarity calculation time: 74.2586145401001 seconds\n"
     ]
    }
   ],
   "execution_count": 47
  },
  {
   "metadata": {},
   "cell_type": "markdown",
   "source": "#  Evaluation Metrics"
  },
  {
   "metadata": {
    "ExecuteTime": {
     "end_time": "2024-06-05T23:00:20.839079Z",
     "start_time": "2024-06-05T23:00:20.835253Z"
    }
   },
   "cell_type": "code",
   "source": [
    "# Sample data for annotated document pairs\n",
    "annotated_pairs = [\n",
    "    (\"deep learning\", \"deep neural networks\", 0.9),\n",
    "    (\"machine learning\", \"artificial intelligence\", 0.8),\n",
    "    (\"neural networks\", \"convolutional networks\", 0.85)\n",
    "]"
   ],
   "outputs": [],
   "execution_count": 48
  },
  {
   "metadata": {
    "ExecuteTime": {
     "end_time": "2024-06-05T23:00:22.289290Z",
     "start_time": "2024-06-05T23:00:22.266537Z"
    }
   },
   "cell_type": "code",
   "source": [
    "human_scores = []\n",
    "tfidf_scores = []\n",
    "embed_scores = []\n",
    "lsa_scores = []\n",
    "\n",
    "for doc1, doc2, human_score in annotated_pairs:\n",
    "    human_scores.append(human_score)\n",
    "    tfidf_scores.append(cosine_similarity(tfidf_vectorizer.transform([doc1]), tfidf_vectorizer.transform([doc2]))[0][0])\n",
    "    embed_scores.append(cosine_similarity(embed([doc1]).numpy(), embed([doc2]).numpy())[0][0])\n",
    "    lsa_scores.append(cosine_similarity(svd.transform(tfidf_vectorizer.transform([doc1])), svd.transform(tfidf_vectorizer.transform([doc2])))[0][0])\n"
   ],
   "outputs": [],
   "execution_count": 49
  },
  {
   "metadata": {
    "ExecuteTime": {
     "end_time": "2024-06-05T23:00:23.084979Z",
     "start_time": "2024-06-05T23:00:23.074067Z"
    }
   },
   "cell_type": "code",
   "source": [
    "\n",
    "# Assuming human_scores, tfidf_scores, embed_scores, and lsa_scores are already defined and contain the similarity scores\n",
    "\n",
    "# Compute Spearman correlation and RMSE using the recommended function\n",
    "spearman_tfidf = spearmanr(human_scores, tfidf_scores)\n",
    "rmse_tfidf = root_mean_squared_error(human_scores, tfidf_scores)\n",
    "\n",
    "spearman_embed = spearmanr(human_scores, embed_scores)\n",
    "rmse_embed = root_mean_squared_error(human_scores, embed_scores)\n",
    "\n",
    "spearman_lsa = spearmanr(human_scores, lsa_scores)\n",
    "rmse_lsa = root_mean_squared_error(human_scores, lsa_scores)\n",
    "\n",
    "# Print results\n",
    "print(f\"TF-IDF - Spearman correlation: {spearman_tfidf.correlation:.3f}, RMSE: {rmse_tfidf:.3f}\")\n",
    "print(f\"Embeddings - Spearman correlation: {spearman_embed.correlation:.3f}, RMSE: {rmse_embed:.3f}\")\n",
    "print(f\"LSA - Spearman correlation: {spearman_lsa.correlation:.3f}, RMSE: {rmse_lsa:.3f}\")"
   ],
   "outputs": [
    {
     "name": "stdout",
     "output_type": "stream",
     "text": [
      "TF-IDF - Spearman correlation: 1.000, RMSE: 0.413\n",
      "Embeddings - Spearman correlation: 0.500, RMSE: 0.026\n",
      "LSA - Spearman correlation: 0.500, RMSE: 0.369\n"
     ]
    }
   ],
   "execution_count": 50
  },
  {
   "metadata": {
    "ExecuteTime": {
     "end_time": "2024-06-05T23:00:24.828061Z",
     "start_time": "2024-06-05T23:00:24.825519Z"
    }
   },
   "cell_type": "code",
   "source": "",
   "outputs": [],
   "execution_count": 50
  },
  {
   "metadata": {},
   "cell_type": "markdown",
   "source": "# Plot with Interpretations"
  },
  {
   "metadata": {
    "ExecuteTime": {
     "end_time": "2024-06-05T23:01:58.007880Z",
     "start_time": "2024-06-05T23:01:46.240079Z"
    }
   },
   "cell_type": "code",
   "source": [
    "# Plot the distribution of similarity scores\n",
    "start_time = time.time()\n",
    "# Plot the distribution of similarity scores\n",
    "plt.figure(figsize=(12, 6))\n",
    "sns.histplot(cosine_similarities_tfidf.flatten(), bins=50, color='blue', kde=True, label='TF-IDF Cosine Similarity')\n",
    "sns.histplot(cosine_similarities_embed.flatten(), bins=50, color='red', kde=True, label='Embedding Cosine Similarity')\n",
    "sns.histplot(cosine_similarities_lsa.flatten(), bins=50, color='green', kde=True, label='LSA Cosine Similarity')\n",
    "plt.legend()\n",
    "plt.title('Distribution of Cosine Similarity Scores')\n",
    "plt.xlabel('Cosine Similarity Score')\n",
    "plt.ylabel('Frequency')\n",
    "plt.show()\n",
    "print(f\"Plotting time: {time.time() - start_time} seconds\")"
   ],
   "outputs": [
    {
     "data": {
      "text/plain": [
       "<Figure size 1200x600 with 1 Axes>"
      ],
      "image/png": "[encoded data removed]"
     },
     "metadata": {},
     "output_type": "display_data"
    },
    {
     "name": "stdout",
     "output_type": "stream",
     "text": [
      "Plotting time: 11.752988338470459 seconds\n"
     ]
    }
   ],
   "execution_count": 57
  },
  {
   "metadata": {
    "ExecuteTime": {
     "end_time": "2024-06-05T23:02:17.326396Z",
     "start_time": "2024-06-05T23:02:17.321745Z"
    }
   },
   "cell_type": "code",
   "source": [
    "  # Analysis of errors\n",
    "def analyze_errors():\n",
    "    errors = []\n",
    "    for i, (human_score, tfidf_score, embed_score, lsa_score) in enumerate(zip(human_scores, tfidf_scores, embed_scores, lsa_scores)):\n",
    "        if abs(human_score - tfidf_score) > 0.3 or abs(human_score - embed_score) > 0.3 or abs(human_score - lsa_score) > 0.3:\n",
    "            errors.append((annotated_pairs[i], tfidf_score, embed_score, lsa_score))\n",
    "    return errors\n",
    "\n",
    "errors = analyze_errors()\n",
    "for error in errors:\n",
    "    print(f\"Document Pair: {error[0]}, TF-IDF: {error[1]}, Embedding: {error[2]}, LSA: {error[3]}\")\n"
   ],
   "outputs": [
    {
     "name": "stdout",
     "output_type": "stream",
     "text": [
      "Document Pair: ('deep learning', 'deep neural networks', 0.9), TF-IDF: 0.35098722101016366, Embedding: 0.7434183359146118, LSA: 0.2759726473537776\n",
      "Document Pair: ('machine learning', 'artificial intelligence', 0.8), TF-IDF: 0.0, Embedding: 0.5775032043457031, LSA: 0.11700401551836498\n",
      "Document Pair: ('neural networks', 'convolutional networks', 0.85), TF-IDF: 0.30450940521309505, Embedding: 0.7809337377548218, LSA: 0.34859288204113115\n"
     ]
    }
   ],
   "execution_count": 58
  },
  {
   "metadata": {},
   "cell_type": "code",
   "outputs": [],
   "execution_count": 80,
   "source": [
    "   # Test 1: Prediction Accuracy\n",
    "test_sentences = [\n",
    "    'deep convolutional',\n",
    "    'simple and effective',\n",
    "    'a nonconvex',\n",
    "    'a',\n",
    "    'machine learning',\n",
    "    'neural networks are',\n",
    "    'the quick brown'\n",
    "]\n",
    "\n",
    "def predict_next_word(sentence):\n",
    "    prediction = model.predict(x=embed([sentence]).numpy())\n",
    "    idx = np.argmax(prediction[-1])\n",
    "    next_word = vocabulary[idx]\n",
    "    return next_word\n",
    "\n"
   ]
  },
  {
   "metadata": {},
   "cell_type": "code",
   "outputs": [
    {
     "name": "stdout",
     "output_type": "stream",
     "text": [
      "Prediction Accuracy Test:\n",
      "\u001B[1m1/1\u001B[0m \u001B[32m━━━━━━━━━━━━━━━━━━━━\u001B[0m\u001B[37m\u001B[0m \u001B[1m0s\u001B[0m 21ms/step\n",
      "Input: deep convolutional --> Predicted next word: networks\n",
      "\u001B[1m1/1\u001B[0m \u001B[32m━━━━━━━━━━━━━━━━━━━━\u001B[0m\u001B[37m\u001B[0m \u001B[1m0s\u001B[0m 16ms/step\n",
      "Input: simple and effective --> Predicted next word: dataset\n",
      "\u001B[1m1/1\u001B[0m \u001B[32m━━━━━━━━━━━━━━━━━━━━\u001B[0m\u001B[37m\u001B[0m \u001B[1m0s\u001B[0m 18ms/step\n",
      "Input: a nonconvex --> Predicted next word: networks\n",
      "\u001B[1m1/1\u001B[0m \u001B[32m━━━━━━━━━━━━━━━━━━━━\u001B[0m\u001B[37m\u001B[0m \u001B[1m0s\u001B[0m 18ms/step\n",
      "Input: a --> Predicted next word: improvement\n",
      "\u001B[1m1/1\u001B[0m \u001B[32m━━━━━━━━━━━━━━━━━━━━\u001B[0m\u001B[37m\u001B[0m \u001B[1m0s\u001B[0m 19ms/step\n",
      "Input: machine learning --> Predicted next word: improvement\n",
      "\u001B[1m1/1\u001B[0m \u001B[32m━━━━━━━━━━━━━━━━━━━━\u001B[0m\u001B[37m\u001B[0m \u001B[1m0s\u001B[0m 17ms/step\n",
      "Input: neural networks are --> Predicted next word: networks\n",
      "\u001B[1m1/1\u001B[0m \u001B[32m━━━━━━━━━━━━━━━━━━━━\u001B[0m\u001B[37m\u001B[0m \u001B[1m0s\u001B[0m 17ms/step\n",
      "Input: the quick brown --> Predicted next word: experiments\n"
     ]
    }
   ],
   "execution_count": 79,
   "source": [
    "print(\"Prediction Accuracy Test:\")\n",
    "for sentence in test_sentences:\n",
    "    next_word = predict_next_word(sentence)\n",
    "    print(f\"Input: {sentence} --> Predicted next word: {next_word}\") "
   ]
  },
  {
   "metadata": {
    "ExecuteTime": {
     "end_time": "2024-06-06T00:11:27.847919Z",
     "start_time": "2024-06-06T00:11:27.845255Z"
    }
   },
   "cell_type": "code",
   "source": "",
   "outputs": [],
   "execution_count": 81
  },
  {
   "metadata": {},
   "cell_type": "code",
   "outputs": [],
   "execution_count": null,
   "source": ""
  },
  {
   "metadata": {
    "ExecuteTime": {
     "end_time": "2024-06-06T00:19:01.631745Z",
     "start_time": "2024-06-06T00:19:01.624729Z"
    }
   },
   "cell_type": "code",
   "source": [
    "from sklearn.feature_extraction.text import TfidfVectorizer\n",
    "from sklearn.naive_bayes import MultinomialNB\n",
    "from sklearn.ensemble import AdaBoostClassifier\n",
    "from sklearn.decomposition import TruncatedSVD\n",
    "from sklearn.metrics import accuracy_score\n"
   ],
   "outputs": [],
   "execution_count": 82
  },
  {
   "metadata": {},
   "cell_type": "markdown",
   "source": "# Cosine Similarity with TF-IDFMultinomial Naive Bayes"
  },
  {
   "metadata": {
    "ExecuteTime": {
     "end_time": "2024-06-06T01:38:32.150018Z",
     "start_time": "2024-06-06T01:38:32.146089Z"
    }
   },
   "cell_type": "code",
   "source": [
    "import gdown\n",
    "import string\n",
    "import nltk\n",
    "from sklearn.feature_extraction.text import TfidfVectorizer\n",
    "from sklearn.naive_bayes import MultinomialNB\n",
    "from sklearn.metrics.pairwise import cosine_similarity\n",
    "from nltk.corpus import stopwords\n",
    "from sklearn.model_selection import train_test_split\n",
    "from joblib import dump\n"
   ],
   "outputs": [],
   "execution_count": 252
  },
  {
   "metadata": {
    "ExecuteTime": {
     "end_time": "2024-06-06T01:33:53.378302Z",
     "start_time": "2024-06-06T01:33:44.258167Z"
    }
   },
   "cell_type": "code",
   "source": [
    "# # Download the dataset\n",
    "# url = 'https://drive.google.com/uc?id=1YTBR7FiXssaKXHhOZbUbwoWw6jzQxxKW'\n",
    "# output = 'corpus.txt'\n",
    "# gdown.download(url, output, quiet=False)"
   ],
   "outputs": [
    {
     "name": "stderr",
     "output_type": "stream",
     "text": [
      "Downloading...\n",
      "From: https://drive.google.com/uc?id=1YTBR7FiXssaKXHhOZbUbwoWw6jzQxxKW\n",
      "To: C:\\Users\\abdes\\PycharmProjects\\predict_search\\corpus.txt\n",
      "100%|██████████| 7.55M/7.55M [00:07<00:00, 1.05MB/s]\n"
     ]
    },
    {
     "data": {
      "text/plain": [
       "'corpus.txt'"
      ]
     },
     "execution_count": 239,
     "metadata": {},
     "output_type": "execute_result"
    }
   ],
   "execution_count": 239
  },
  {
   "metadata": {
    "ExecuteTime": {
     "end_time": "2024-06-06T01:33:55.014913Z",
     "start_time": "2024-06-06T01:33:54.987875Z"
    }
   },
   "cell_type": "code",
   "source": [
    "# Read the corpus\n",
    "with open('corpus.txt', 'r') as file:\n",
    "    corpus = file.readlines()"
   ],
   "outputs": [],
   "execution_count": 240
  },
  {
   "metadata": {
    "ExecuteTime": {
     "end_time": "2024-06-06T01:33:57.478315Z",
     "start_time": "2024-06-06T01:33:55.623974Z"
    }
   },
   "cell_type": "code",
   "source": [
    "# Tokenize and preprocess the dataset\n",
    "def preprocess_text(text):\n",
    "    translator = str.maketrans('', '', string.punctuation)\n",
    "    return ' '.join(nltk.word_tokenize(text.lower().translate(translator)))\n",
    "\n",
    "corpus = [preprocess_text(doc) for doc in corpus]"
   ],
   "outputs": [],
   "execution_count": 241
  },
  {
   "metadata": {
    "ExecuteTime": {
     "end_time": "2024-06-06T01:33:58.005484Z",
     "start_time": "2024-06-06T01:33:57.999339Z"
    }
   },
   "cell_type": "code",
   "source": [
    "# Split the dataset into training and test sets\n",
    "X_train, X_test = train_test_split(corpus, test_size=0.2, random_state=42)\n"
   ],
   "outputs": [],
   "execution_count": 242
  },
  {
   "metadata": {
    "ExecuteTime": {
     "end_time": "2024-06-06T01:33:59.142116Z",
     "start_time": "2024-06-06T01:33:58.598177Z"
    }
   },
   "cell_type": "code",
   "source": [
    "# Create TF-IDF vectors for the dataset\n",
    "vectorizer = TfidfVectorizer()\n",
    "X_train_tfidf = vectorizer.fit_transform(X_train)\n",
    "X_test_tfidf = vectorizer.transform(X_test)"
   ],
   "outputs": [],
   "execution_count": 243
  },
  {
   "metadata": {
    "ExecuteTime": {
     "end_time": "2024-06-06T01:33:59.770564Z",
     "start_time": "2024-06-06T01:33:59.143174Z"
    }
   },
   "cell_type": "code",
   "source": [
    "# Train the Multinomial Naive Bayes model\n",
    "model = MultinomialNB()\n",
    "model.fit(X_train_tfidf, X_train)\n"
   ],
   "outputs": [
    {
     "data": {
      "text/plain": [
       "MultinomialNB()"
      ],
      "text/html": [
       "<style>#sk-container-id-9 {\n",
       "  /* Definition of color scheme common for light and dark mode */\n",
       "  --sklearn-color-text: black;\n",
       "  --sklearn-color-line: gray;\n",
       "  /* Definition of color scheme for unfitted estimators */\n",
       "  --sklearn-color-unfitted-level-0: #fff5e6;\n",
       "  --sklearn-color-unfitted-level-1: #f6e4d2;\n",
       "  --sklearn-color-unfitted-level-2: #ffe0b3;\n",
       "  --sklearn-color-unfitted-level-3: chocolate;\n",
       "  /* Definition of color scheme for fitted estimators */\n",
       "  --sklearn-color-fitted-level-0: #f0f8ff;\n",
       "  --sklearn-color-fitted-level-1: #d4ebff;\n",
       "  --sklearn-color-fitted-level-2: #b3dbfd;\n",
       "  --sklearn-color-fitted-level-3: cornflowerblue;\n",
       "\n",
       "  /* Specific color for light theme */\n",
       "  --sklearn-color-text-on-default-background: var(--sg-text-color, var(--theme-code-foreground, var(--jp-content-font-color1, black)));\n",
       "  --sklearn-color-background: var(--sg-background-color, var(--theme-background, var(--jp-layout-color0, white)));\n",
       "  --sklearn-color-border-box: var(--sg-text-color, var(--theme-code-foreground, var(--jp-content-font-color1, black)));\n",
       "  --sklearn-color-icon: #696969;\n",
       "\n",
       "  @media (prefers-color-scheme: dark) {\n",
       "    /* Redefinition of color scheme for dark theme */\n",
       "    --sklearn-color-text-on-default-background: var(--sg-text-color, var(--theme-code-foreground, var(--jp-content-font-color1, white)));\n",
       "    --sklearn-color-background: var(--sg-background-color, var(--theme-background, var(--jp-layout-color0, #111)));\n",
       "    --sklearn-color-border-box: var(--sg-text-color, var(--theme-code-foreground, var(--jp-content-font-color1, white)));\n",
       "    --sklearn-color-icon: #878787;\n",
       "  }\n",
       "}\n",
       "\n",
       "#sk-container-id-9 {\n",
       "  color: var(--sklearn-color-text);\n",
       "}\n",
       "\n",
       "#sk-container-id-9 pre {\n",
       "  padding: 0;\n",
       "}\n",
       "\n",
       "#sk-container-id-9 input.sk-hidden--visually {\n",
       "  border: 0;\n",
       "  clip: rect(1px 1px 1px 1px);\n",
       "  clip: rect(1px, 1px, 1px, 1px);\n",
       "  height: 1px;\n",
       "  margin: -1px;\n",
       "  overflow: hidden;\n",
       "  padding: 0;\n",
       "  position: absolute;\n",
       "  width: 1px;\n",
       "}\n",
       "\n",
       "#sk-container-id-9 div.sk-dashed-wrapped {\n",
       "  border: 1px dashed var(--sklearn-color-line);\n",
       "  margin: 0 0.4em 0.5em 0.4em;\n",
       "  box-sizing: border-box;\n",
       "  padding-bottom: 0.4em;\n",
       "  background-color: var(--sklearn-color-background);\n",
       "}\n",
       "\n",
       "#sk-container-id-9 div.sk-container {\n",
       "  /* jupyter's `normalize.less` sets `[hidden] { display: none; }`\n",
       "     but bootstrap.min.css set `[hidden] { display: none !important; }`\n",
       "     so we also need the `!important` here to be able to override the\n",
       "     default hidden behavior on the sphinx rendered scikit-learn.org.\n",
       "     See: https://github.com/scikit-learn/scikit-learn/issues/21755 */\n",
       "  display: inline-block !important;\n",
       "  position: relative;\n",
       "}\n",
       "\n",
       "#sk-container-id-9 div.sk-text-repr-fallback {\n",
       "  display: none;\n",
       "}\n",
       "\n",
       "div.sk-parallel-item,\n",
       "div.sk-serial,\n",
       "div.sk-item {\n",
       "  /* draw centered vertical line to link estimators */\n",
       "  background-image: linear-gradient(var(--sklearn-color-text-on-default-background), var(--sklearn-color-text-on-default-background));\n",
       "  background-size: 2px 100%;\n",
       "  background-repeat: no-repeat;\n",
       "  background-position: center center;\n",
       "}\n",
       "\n",
       "/* Parallel-specific style estimator block */\n",
       "\n",
       "#sk-container-id-9 div.sk-parallel-item::after {\n",
       "  content: \"\";\n",
       "  width: 100%;\n",
       "  border-bottom: 2px solid var(--sklearn-color-text-on-default-background);\n",
       "  flex-grow: 1;\n",
       "}\n",
       "\n",
       "#sk-container-id-9 div.sk-parallel {\n",
       "  display: flex;\n",
       "  align-items: stretch;\n",
       "  justify-content: center;\n",
       "  background-color: var(--sklearn-color-background);\n",
       "  position: relative;\n",
       "}\n",
       "\n",
       "#sk-container-id-9 div.sk-parallel-item {\n",
       "  display: flex;\n",
       "  flex-direction: column;\n",
       "}\n",
       "\n",
       "#sk-container-id-9 div.sk-parallel-item:first-child::after {\n",
       "  align-self: flex-end;\n",
       "  width: 50%;\n",
       "}\n",
       "\n",
       "#sk-container-id-9 div.sk-parallel-item:last-child::after {\n",
       "  align-self: flex-start;\n",
       "  width: 50%;\n",
       "}\n",
       "\n",
       "#sk-container-id-9 div.sk-parallel-item:only-child::after {\n",
       "  width: 0;\n",
       "}\n",
       "\n",
       "/* Serial-specific style estimator block */\n",
       "\n",
       "#sk-container-id-9 div.sk-serial {\n",
       "  display: flex;\n",
       "  flex-direction: column;\n",
       "  align-items: center;\n",
       "  background-color: var(--sklearn-color-background);\n",
       "  padding-right: 1em;\n",
       "  padding-left: 1em;\n",
       "}\n",
       "\n",
       "\n",
       "/* Toggleable style: style used for estimator/Pipeline/ColumnTransformer box that is\n",
       "clickable and can be expanded/collapsed.\n",
       "- Pipeline and ColumnTransformer use this feature and define the default style\n",
       "- Estimators will overwrite some part of the style using the `sk-estimator` class\n",
       "*/\n",
       "\n",
       "/* Pipeline and ColumnTransformer style (default) */\n",
       "\n",
       "#sk-container-id-9 div.sk-toggleable {\n",
       "  /* Default theme specific background. It is overwritten whether we have a\n",
       "  specific estimator or a Pipeline/ColumnTransformer */\n",
       "  background-color: var(--sklearn-color-background);\n",
       "}\n",
       "\n",
       "/* Toggleable label */\n",
       "#sk-container-id-9 label.sk-toggleable__label {\n",
       "  cursor: pointer;\n",
       "  display: block;\n",
       "  width: 100%;\n",
       "  margin-bottom: 0;\n",
       "  padding: 0.5em;\n",
       "  box-sizing: border-box;\n",
       "  text-align: center;\n",
       "}\n",
       "\n",
       "#sk-container-id-9 label.sk-toggleable__label-arrow:before {\n",
       "  /* Arrow on the left of the label */\n",
       "  content: \"▸\";\n",
       "  float: left;\n",
       "  margin-right: 0.25em;\n",
       "  color: var(--sklearn-color-icon);\n",
       "}\n",
       "\n",
       "#sk-container-id-9 label.sk-toggleable__label-arrow:hover:before {\n",
       "  color: var(--sklearn-color-text);\n",
       "}\n",
       "\n",
       "/* Toggleable content - dropdown */\n",
       "\n",
       "#sk-container-id-9 div.sk-toggleable__content {\n",
       "  max-height: 0;\n",
       "  max-width: 0;\n",
       "  overflow: hidden;\n",
       "  text-align: left;\n",
       "  /* unfitted */\n",
       "  background-color: var(--sklearn-color-unfitted-level-0);\n",
       "}\n",
       "\n",
       "#sk-container-id-9 div.sk-toggleable__content.fitted {\n",
       "  /* fitted */\n",
       "  background-color: var(--sklearn-color-fitted-level-0);\n",
       "}\n",
       "\n",
       "#sk-container-id-9 div.sk-toggleable__content pre {\n",
       "  margin: 0.2em;\n",
       "  border-radius: 0.25em;\n",
       "  color: var(--sklearn-color-text);\n",
       "  /* unfitted */\n",
       "  background-color: var(--sklearn-color-unfitted-level-0);\n",
       "}\n",
       "\n",
       "#sk-container-id-9 div.sk-toggleable__content.fitted pre {\n",
       "  /* unfitted */\n",
       "  background-color: var(--sklearn-color-fitted-level-0);\n",
       "}\n",
       "\n",
       "#sk-container-id-9 input.sk-toggleable__control:checked~div.sk-toggleable__content {\n",
       "  /* Expand drop-down */\n",
       "  max-height: 200px;\n",
       "  max-width: 100%;\n",
       "  overflow: auto;\n",
       "}\n",
       "\n",
       "#sk-container-id-9 input.sk-toggleable__control:checked~label.sk-toggleable__label-arrow:before {\n",
       "  content: \"▾\";\n",
       "}\n",
       "\n",
       "/* Pipeline/ColumnTransformer-specific style */\n",
       "\n",
       "#sk-container-id-9 div.sk-label input.sk-toggleable__control:checked~label.sk-toggleable__label {\n",
       "  color: var(--sklearn-color-text);\n",
       "  background-color: var(--sklearn-color-unfitted-level-2);\n",
       "}\n",
       "\n",
       "#sk-container-id-9 div.sk-label.fitted input.sk-toggleable__control:checked~label.sk-toggleable__label {\n",
       "  background-color: var(--sklearn-color-fitted-level-2);\n",
       "}\n",
       "\n",
       "/* Estimator-specific style */\n",
       "\n",
       "/* Colorize estimator box */\n",
       "#sk-container-id-9 div.sk-estimator input.sk-toggleable__control:checked~label.sk-toggleable__label {\n",
       "  /* unfitted */\n",
       "  background-color: var(--sklearn-color-unfitted-level-2);\n",
       "}\n",
       "\n",
       "#sk-container-id-9 div.sk-estimator.fitted input.sk-toggleable__control:checked~label.sk-toggleable__label {\n",
       "  /* fitted */\n",
       "  background-color: var(--sklearn-color-fitted-level-2);\n",
       "}\n",
       "\n",
       "#sk-container-id-9 div.sk-label label.sk-toggleable__label,\n",
       "#sk-container-id-9 div.sk-label label {\n",
       "  /* The background is the default theme color */\n",
       "  color: var(--sklearn-color-text-on-default-background);\n",
       "}\n",
       "\n",
       "/* On hover, darken the color of the background */\n",
       "#sk-container-id-9 div.sk-label:hover label.sk-toggleable__label {\n",
       "  color: var(--sklearn-color-text);\n",
       "  background-color: var(--sklearn-color-unfitted-level-2);\n",
       "}\n",
       "\n",
       "/* Label box, darken color on hover, fitted */\n",
       "#sk-container-id-9 div.sk-label.fitted:hover label.sk-toggleable__label.fitted {\n",
       "  color: var(--sklearn-color-text);\n",
       "  background-color: var(--sklearn-color-fitted-level-2);\n",
       "}\n",
       "\n",
       "/* Estimator label */\n",
       "\n",
       "#sk-container-id-9 div.sk-label label {\n",
       "  font-family: monospace;\n",
       "  font-weight: bold;\n",
       "  display: inline-block;\n",
       "  line-height: 1.2em;\n",
       "}\n",
       "\n",
       "#sk-container-id-9 div.sk-label-container {\n",
       "  text-align: center;\n",
       "}\n",
       "\n",
       "/* Estimator-specific */\n",
       "#sk-container-id-9 div.sk-estimator {\n",
       "  font-family: monospace;\n",
       "  border: 1px dotted var(--sklearn-color-border-box);\n",
       "  border-radius: 0.25em;\n",
       "  box-sizing: border-box;\n",
       "  margin-bottom: 0.5em;\n",
       "  /* unfitted */\n",
       "  background-color: var(--sklearn-color-unfitted-level-0);\n",
       "}\n",
       "\n",
       "#sk-container-id-9 div.sk-estimator.fitted {\n",
       "  /* fitted */\n",
       "  background-color: var(--sklearn-color-fitted-level-0);\n",
       "}\n",
       "\n",
       "/* on hover */\n",
       "#sk-container-id-9 div.sk-estimator:hover {\n",
       "  /* unfitted */\n",
       "  background-color: var(--sklearn-color-unfitted-level-2);\n",
       "}\n",
       "\n",
       "#sk-container-id-9 div.sk-estimator.fitted:hover {\n",
       "  /* fitted */\n",
       "  background-color: var(--sklearn-color-fitted-level-2);\n",
       "}\n",
       "\n",
       "/* Specification for estimator info (e.g. \"i\" and \"?\") */\n",
       "\n",
       "/* Common style for \"i\" and \"?\" */\n",
       "\n",
       ".sk-estimator-doc-link,\n",
       "a:link.sk-estimator-doc-link,\n",
       "a:visited.sk-estimator-doc-link {\n",
       "  float: right;\n",
       "  font-size: smaller;\n",
       "  line-height: 1em;\n",
       "  font-family: monospace;\n",
       "  background-color: var(--sklearn-color-background);\n",
       "  border-radius: 1em;\n",
       "  height: 1em;\n",
       "  width: 1em;\n",
       "  text-decoration: none !important;\n",
       "  margin-left: 1ex;\n",
       "  /* unfitted */\n",
       "  border: var(--sklearn-color-unfitted-level-1) 1pt solid;\n",
       "  color: var(--sklearn-color-unfitted-level-1);\n",
       "}\n",
       "\n",
       ".sk-estimator-doc-link.fitted,\n",
       "a:link.sk-estimator-doc-link.fitted,\n",
       "a:visited.sk-estimator-doc-link.fitted {\n",
       "  /* fitted */\n",
       "  border: var(--sklearn-color-fitted-level-1) 1pt solid;\n",
       "  color: var(--sklearn-color-fitted-level-1);\n",
       "}\n",
       "\n",
       "/* On hover */\n",
       "div.sk-estimator:hover .sk-estimator-doc-link:hover,\n",
       ".sk-estimator-doc-link:hover,\n",
       "div.sk-label-container:hover .sk-estimator-doc-link:hover,\n",
       ".sk-estimator-doc-link:hover {\n",
       "  /* unfitted */\n",
       "  background-color: var(--sklearn-color-unfitted-level-3);\n",
       "  color: var(--sklearn-color-background);\n",
       "  text-decoration: none;\n",
       "}\n",
       "\n",
       "div.sk-estimator.fitted:hover .sk-estimator-doc-link.fitted:hover,\n",
       ".sk-estimator-doc-link.fitted:hover,\n",
       "div.sk-label-container:hover .sk-estimator-doc-link.fitted:hover,\n",
       ".sk-estimator-doc-link.fitted:hover {\n",
       "  /* fitted */\n",
       "  background-color: var(--sklearn-color-fitted-level-3);\n",
       "  color: var(--sklearn-color-background);\n",
       "  text-decoration: none;\n",
       "}\n",
       "\n",
       "/* Span, style for the box shown on hovering the info icon */\n",
       ".sk-estimator-doc-link span {\n",
       "  display: none;\n",
       "  z-index: 9999;\n",
       "  position: relative;\n",
       "  font-weight: normal;\n",
       "  right: .2ex;\n",
       "  padding: .5ex;\n",
       "  margin: .5ex;\n",
       "  width: min-content;\n",
       "  min-width: 20ex;\n",
       "  max-width: 50ex;\n",
       "  color: var(--sklearn-color-text);\n",
       "  box-shadow: 2pt 2pt 4pt #999;\n",
       "  /* unfitted */\n",
       "  background: var(--sklearn-color-unfitted-level-0);\n",
       "  border: .5pt solid var(--sklearn-color-unfitted-level-3);\n",
       "}\n",
       "\n",
       ".sk-estimator-doc-link.fitted span {\n",
       "  /* fitted */\n",
       "  background: var(--sklearn-color-fitted-level-0);\n",
       "  border: var(--sklearn-color-fitted-level-3);\n",
       "}\n",
       "\n",
       ".sk-estimator-doc-link:hover span {\n",
       "  display: block;\n",
       "}\n",
       "\n",
       "/* \"?\"-specific style due to the `<a>` HTML tag */\n",
       "\n",
       "#sk-container-id-9 a.estimator_doc_link {\n",
       "  float: right;\n",
       "  font-size: 1rem;\n",
       "  line-height: 1em;\n",
       "  font-family: monospace;\n",
       "  background-color: var(--sklearn-color-background);\n",
       "  border-radius: 1rem;\n",
       "  height: 1rem;\n",
       "  width: 1rem;\n",
       "  text-decoration: none;\n",
       "  /* unfitted */\n",
       "  color: var(--sklearn-color-unfitted-level-1);\n",
       "  border: var(--sklearn-color-unfitted-level-1) 1pt solid;\n",
       "}\n",
       "\n",
       "#sk-container-id-9 a.estimator_doc_link.fitted {\n",
       "  /* fitted */\n",
       "  border: var(--sklearn-color-fitted-level-1) 1pt solid;\n",
       "  color: var(--sklearn-color-fitted-level-1);\n",
       "}\n",
       "\n",
       "/* On hover */\n",
       "#sk-container-id-9 a.estimator_doc_link:hover {\n",
       "  /* unfitted */\n",
       "  background-color: var(--sklearn-color-unfitted-level-3);\n",
       "  color: var(--sklearn-color-background);\n",
       "  text-decoration: none;\n",
       "}\n",
       "\n",
       "#sk-container-id-9 a.estimator_doc_link.fitted:hover {\n",
       "  /* fitted */\n",
       "  background-color: var(--sklearn-color-fitted-level-3);\n",
       "}\n",
       "</style><div id=\"sk-container-id-9\" class=\"sk-top-container\"><div class=\"sk-text-repr-fallback\"><pre>MultinomialNB()</pre><b>In a Jupyter environment, please rerun this cell to show the HTML representation or trust the notebook. <br />On GitHub, the HTML representation is unable to render, please try loading this page with nbviewer.org.</b></div><div class=\"sk-container\" hidden><div class=\"sk-item\"><div class=\"sk-estimator fitted sk-toggleable\"><input class=\"sk-toggleable__control sk-hidden--visually\" id=\"sk-estimator-id-9\" type=\"checkbox\" checked><label for=\"sk-estimator-id-9\" class=\"sk-toggleable__label fitted sk-toggleable__label-arrow fitted\">&nbsp;&nbsp;MultinomialNB<a class=\"sk-estimator-doc-link fitted\" rel=\"noreferrer\" target=\"_blank\" href=\"https://scikit-learn.org/1.5/modules/generated/sklearn.naive_bayes.MultinomialNB.html\">?<span>Documentation for MultinomialNB</span></a><span class=\"sk-estimator-doc-link fitted\">i<span>Fitted</span></span></label><div class=\"sk-toggleable__content fitted\"><pre>MultinomialNB()</pre></div> </div></div></div></div>"
      ]
     },
     "execution_count": 244,
     "metadata": {},
     "output_type": "execute_result"
    }
   ],
   "execution_count": 244
  },
  {
   "metadata": {
    "ExecuteTime": {
     "end_time": "2024-06-06T01:34:00.265141Z",
     "start_time": "2024-06-06T01:34:00.252451Z"
    }
   },
   "cell_type": "code",
   "source": [
    "# Use the trained model to predict labels for the test set\n",
    "predicted_labels = model.predict(X_test_tfidf)\n"
   ],
   "outputs": [],
   "execution_count": 245
  },
  {
   "metadata": {
    "ExecuteTime": {
     "end_time": "2024-06-06T01:34:00.925397Z",
     "start_time": "2024-06-06T01:34:00.831170Z"
    }
   },
   "cell_type": "code",
   "source": [
    "# Use the trained model to predict TF-IDF vectors for the test set\n",
    "X_test_predicted_tfidf = vectorizer.transform(predicted_labels)\n"
   ],
   "outputs": [],
   "execution_count": 246
  },
  {
   "metadata": {
    "ExecuteTime": {
     "end_time": "2024-06-06T01:34:01.301471Z",
     "start_time": "2024-06-06T01:34:01.222584Z"
    }
   },
   "cell_type": "code",
   "source": [
    "# Calculate the cosine similarity between the predicted TF-IDF vectors and the actual TF-IDF vectors\n",
    "cosine_similarities = cosine_similarity(X_test_tfidf, X_test_predicted_tfidf)\n"
   ],
   "outputs": [],
   "execution_count": 247
  },
  {
   "metadata": {
    "ExecuteTime": {
     "end_time": "2024-06-06T01:34:01.733039Z",
     "start_time": "2024-06-06T01:34:01.728070Z"
    }
   },
   "cell_type": "code",
   "source": [
    "# Calculate the mean cosine similarity score\n",
    "mean_cosine_similarity = np.mean(cosine_similarities)\n",
    "print(f\"Mean Cosine Similarity: {mean_cosine_similarity}\")"
   ],
   "outputs": [
    {
     "name": "stdout",
     "output_type": "stream",
     "text": [
      "Mean Cosine Similarity: 0.12248526950748709\n"
     ]
    }
   ],
   "execution_count": 248
  },
  {
   "metadata": {
    "ExecuteTime": {
     "end_time": "2024-06-06T01:34:02.315585Z",
     "start_time": "2024-06-06T01:34:02.271936Z"
    }
   },
   "cell_type": "code",
   "source": [
    "from sklearn.metrics import accuracy_score\n",
    "\n",
    "# Calculate the accuracy score\n",
    "accuracy = accuracy_score(X_test, predicted_labels)\n",
    "print(f\"Accuracy: {accuracy}\")"
   ],
   "outputs": [
    {
     "name": "stdout",
     "output_type": "stream",
     "text": [
      "Accuracy: 0.9895833333333334\n"
     ]
    }
   ],
   "execution_count": 249
  },
  {
   "metadata": {
    "ExecuteTime": {
     "end_time": "2024-06-06T01:34:30.045700Z",
     "start_time": "2024-06-06T01:34:30.040072Z"
    }
   },
   "cell_type": "code",
   "source": [
    "def next_word(collection=[]):\n",
    "    for item in collection:\n",
    "        prediction = model.predict_proba(tfidf_vectorizer.transform([item]))[0]\n",
    "        idx = np.argmax(prediction)\n",
    "        next_word = vocabulary[idx]\n",
    "        print(f\"{item} --> {item} {next_word}\\nNEXT WORD: {next_word}\\n\")\n",
    "\n",
    "# Test the function with a collection of sentences\n",
    "single_text = ['and some other essential']\n",
    "\n",
    "text_collection = ['deep convolutional']\n",
    "next_word(single_text)"
   ],
   "outputs": [
    {
     "name": "stdout",
     "output_type": "stream",
     "text": [
      "and some other essential --> and some other essential computers\n",
      "NEXT WORD: computers\n",
      "\n"
     ]
    }
   ],
   "execution_count": 251
  },
  {
   "metadata": {},
   "cell_type": "markdown",
   "source": "### save the model"
  },
  {
   "metadata": {
    "ExecuteTime": {
     "end_time": "2024-06-06T01:46:13.676439Z",
     "start_time": "2024-06-06T01:46:13.660256Z"
    }
   },
   "cell_type": "code",
   "source": [
    "# Create a directory to save the models\n",
    "os.makedirs('models', exist_ok=True)\n",
    "\n",
    "# Save the TF-IDF vectorizer\n",
    "dump(tfidf_vectorizer, 'models/tfidf_vectorizer.joblib')\n",
    "\n",
    "# Save the Multinomial Naive Bayes model\n",
    "dump(model, 'models/nb_model.joblib')"
   ],
   "outputs": [
    {
     "data": {
      "text/plain": [
       "['models/nb_model.joblib']"
      ]
     },
     "execution_count": 255,
     "metadata": {},
     "output_type": "execute_result"
    }
   ],
   "execution_count": 255
  },
  {
   "metadata": {},
   "cell_type": "markdown",
   "source": "## Plot the scores of results."
  },
  {
   "metadata": {
    "ExecuteTime": {
     "end_time": "2024-06-06T05:43:32.150736Z",
     "start_time": "2024-06-06T05:43:32.091574Z"
    }
   },
   "cell_type": "code",
   "source": [
    "# Plotting the scores\n",
    "plt.figure(figsize=(8, 6))\n",
    "plt.bar(['Mean Cosine Similarity', 'Accuracy'], [mean_cosine_similarity, accuracy])\n",
    "plt.ylabel('Score')\n",
    "plt.title('Model Evaluation Scores')\n",
    "plt.ylim(0, 1)  # Assuming the scores are between 0 and 1\n",
    "plt.show()"
   ],
   "outputs": [
    {
     "data": {
      "text/plain": [
       "<Figure size 800x600 with 1 Axes>"
      ],
      "image/png": "[encoded data removed]"
     },
     "metadata": {},
     "output_type": "display_data"
    }
   ],
   "execution_count": 306
  },
  {
   "metadata": {},
   "cell_type": "markdown",
   "source": "### Comparez les scores de similarité calculés par votre modèle avec les annotations humaines"
  },
  {
   "metadata": {
    "ExecuteTime": {
     "end_time": "2024-06-06T05:44:41.666688Z",
     "start_time": "2024-06-06T05:44:41.649623Z"
    }
   },
   "cell_type": "code",
   "source": [
    "from scipy.stats import pearsonr, spearmanr\n",
    "\n",
    "# Exemple de valeurs d'annotations humaines (ground truth) et de prédictions du modèle\n",
    "human_annotations = [0.8, 0.6, 0.9, 0.7, 0.5]\n",
    "model_predictions = [0.7, 0.5, 0.8, 0.6, 0.4]\n",
    "\n",
    "# Calculer la corrélation de Pearson\n",
    "pearson_corr, _ = pearsonr(human_annotations, model_predictions)\n",
    "print(f\"Corrélation de Pearson : {pearson_corr}\")\n",
    "\n",
    "# Calculer la corrélation de Spearman\n",
    "spearman_corr, _ = spearmanr(human_annotations, model_predictions)\n",
    "print(f\"Corrélation de Spearman : {spearman_corr}\")\n",
    "\n"
   ],
   "outputs": [
    {
     "name": "stdout",
     "output_type": "stream",
     "text": [
      "Corrélation de Pearson : 1.0\n",
      "Corrélation de Spearman : 0.9999999999999999\n"
     ]
    }
   ],
   "execution_count": 308
  },
  {
   "metadata": {},
   "cell_type": "markdown",
   "source": "###### A Pearson correlation of 1.0 and a Spearman correlation of 0.9999999999999999 indicate a perfect positive correlation between the human annotations and the model predictions. This means that the model's predictions align perfectly with the human judgments, which is very rare in practice and could indicate either a very well-performing model or potentially an issue with the evaluation process."
  },
  {
   "metadata": {},
   "cell_type": "markdown",
   "source": "### Error analysis:"
  },
  {
   "metadata": {},
   "cell_type": "markdown",
   "source": "Identify next words for which the model produced similarity scores that were incorrect or far from human annotations."
  },
  {
   "metadata": {
    "ExecuteTime": {
     "end_time": "2024-06-06T05:54:56.952884Z",
     "start_time": "2024-06-06T05:54:56.949683Z"
    }
   },
   "cell_type": "code",
   "source": [
    "# Let's say it's a list of tuples where each tuple contains a sentence and its predicted next word\n",
    "predicted_next_words = [\n",
    "    (\"deep convolutional\", \"neural\"),\n",
    "    (\"simple and effective\", \"method\"),\n",
    "]\n"
   ],
   "outputs": [],
   "execution_count": 313
  },
  {
   "metadata": {
    "ExecuteTime": {
     "end_time": "2024-06-06T05:54:57.520436Z",
     "start_time": "2024-06-06T05:54:57.514238Z"
    }
   },
   "cell_type": "code",
   "source": [
    "\n",
    "# Calculate model similarity scores for the predicted next words\n",
    "model_similarity_scores = []\n",
    "for sentence, predicted_word in predicted_next_words:\n",
    "    # Use your model to predict the next word\n",
    "    prediction = model.predict_proba(tfidf_vectorizer.transform([sentence]))[0]\n",
    "    idx = np.argmax(prediction)\n",
    "    predicted_next_word = vocabulary[idx]\n",
    "    \n",
    "    # Calculate similarity score between predicted word and actual predicted next word\n",
    "    similarity_score = cosine_similarity(tfidf_vectorizer.transform([predicted_word]), \n",
    "                                          tfidf_vectorizer.transform([predicted_next_word]))[0][0]\n",
    "    model_similarity_scores.append(similarity_score)\n"
   ],
   "outputs": [],
   "execution_count": 314
  },
  {
   "metadata": {
    "ExecuteTime": {
     "end_time": "2024-06-06T05:54:58.175216Z",
     "start_time": "2024-06-06T05:54:58.171216Z"
    }
   },
   "cell_type": "code",
   "source": [
    "# Extract human annotations (actual next words) and model scores\n",
    "human_next_words = [next_word for _, next_word in predicted_next_words]\n"
   ],
   "outputs": [],
   "execution_count": 315
  },
  {
   "metadata": {
    "ExecuteTime": {
     "end_time": "2024-06-06T05:54:58.704781Z",
     "start_time": "2024-06-06T05:54:58.701271Z"
    }
   },
   "cell_type": "code",
   "source": [
    "# Calculate absolute differences between human annotations and model scores\n",
    "absolute_differences = [abs(human_word != predicted_word) for human_word, predicted_word in zip(human_next_words, predicted_next_words)]"
   ],
   "outputs": [],
   "execution_count": 316
  },
  {
   "metadata": {
    "ExecuteTime": {
     "end_time": "2024-06-06T05:54:59.167693Z",
     "start_time": "2024-06-06T05:54:59.163610Z"
    }
   },
   "cell_type": "code",
   "source": [
    "# Find indices of instances where the absolute difference is large\n",
    "threshold = 0.5  # Adjust as needed\n",
    "error_indices = [i for i, diff in enumerate(absolute_differences) if diff > threshold]\n"
   ],
   "outputs": [],
   "execution_count": 317
  },
  {
   "metadata": {
    "ExecuteTime": {
     "end_time": "2024-06-06T05:54:59.672304Z",
     "start_time": "2024-06-06T05:54:59.668569Z"
    }
   },
   "cell_type": "code",
   "source": [
    "# Print out sentences or words for which the model's scores were far from human annotations\n",
    "for idx in error_indices:\n",
    "    sentence, predicted_word = predicted_next_words[idx]\n",
    "    human_word = human_next_words[idx]\n",
    "    print(f\"Sentence: {sentence}\\nPredicted Next Word: {predicted_word}\\nHuman Next Word: {human_word}\\n\")"
   ],
   "outputs": [
    {
     "name": "stdout",
     "output_type": "stream",
     "text": [
      "Sentence: deep convolutional\n",
      "Predicted Next Word: neural\n",
      "Human Next Word: neural\n",
      "\n",
      "Sentence: simple and effective\n",
      "Predicted Next Word: method\n",
      "Human Next Word: method\n",
      "\n"
     ]
    }
   ],
   "execution_count": 318
  },
  {
   "metadata": {},
   "cell_type": "markdown",
   "source": "# Word Embeddings with Cosine Similarity AdaBoost"
  },
  {
   "metadata": {
    "ExecuteTime": {
     "end_time": "2024-06-06T07:38:18.226262Z",
     "start_time": "2024-06-06T07:38:18.222755Z"
    }
   },
   "cell_type": "code",
   "source": [
    "import scipy\n",
    "print(scipy.__version__)\n"
   ],
   "outputs": [
    {
     "name": "stdout",
     "output_type": "stream",
     "text": [
      "1.13.1\n"
     ]
    }
   ],
   "execution_count": 7
  },
  {
   "metadata": {},
   "cell_type": "code",
   "execution_count": 275,
   "source": "",
   "outputs": []
  },
  {
   "metadata": {
    "ExecuteTime": {
     "end_time": "2024-06-06T07:35:31.575597Z",
     "start_time": "2024-06-06T07:35:31.471661Z"
    }
   },
   "cell_type": "code",
   "source": "from gensim.models import Word2Vec",
   "outputs": [
    {
     "ename": "ImportError",
     "evalue": "cannot import name 'triu' from 'scipy.linalg.special_matrices' (C:\\env\\Lib\\site-packages\\scipy\\linalg\\special_matrices.py)",
     "output_type": "error",
     "traceback": [
      "\u001B[1;31m---------------------------------------------------------------------------\u001B[0m",
      "\u001B[1;31mImportError\u001B[0m                               Traceback (most recent call last)",
      "Cell \u001B[1;32mIn[6], line 1\u001B[0m\n\u001B[1;32m----> 1\u001B[0m \u001B[38;5;28;01mfrom\u001B[39;00m \u001B[38;5;21;01mgensim\u001B[39;00m\u001B[38;5;21;01m.\u001B[39;00m\u001B[38;5;21;01mmodels\u001B[39;00m \u001B[38;5;28;01mimport\u001B[39;00m Word2Vec\n",
      "File \u001B[1;32mC:\\env\\Lib\\site-packages\\gensim\\__init__.py:5\u001B[0m\n\u001B[0;32m      1\u001B[0m \u001B[38;5;124;03m\"\"\"This package contains interfaces and functionality to compute pair-wise document similarities within a corpus\u001B[39;00m\n\u001B[0;32m      2\u001B[0m \u001B[38;5;124;03mof documents.\u001B[39;00m\n\u001B[0;32m      3\u001B[0m \u001B[38;5;124;03m\"\"\"\u001B[39;00m\n\u001B[1;32m----> 5\u001B[0m \u001B[38;5;28;01mfrom\u001B[39;00m \u001B[38;5;21;01mgensim\u001B[39;00m \u001B[38;5;28;01mimport\u001B[39;00m parsing, corpora, matutils, interfaces, models, similarities, summarization, utils  \u001B[38;5;66;03m# noqa:F401\u001B[39;00m\n\u001B[0;32m      6\u001B[0m \u001B[38;5;28;01mimport\u001B[39;00m \u001B[38;5;21;01mlogging\u001B[39;00m\n\u001B[0;32m      8\u001B[0m __version__ \u001B[38;5;241m=\u001B[39m \u001B[38;5;124m'\u001B[39m\u001B[38;5;124m3.8.0\u001B[39m\u001B[38;5;124m'\u001B[39m\n",
      "File \u001B[1;32mC:\\env\\Lib\\site-packages\\gensim\\corpora\\__init__.py:6\u001B[0m\n\u001B[0;32m      1\u001B[0m \u001B[38;5;124;03m\"\"\"\u001B[39;00m\n\u001B[0;32m      2\u001B[0m \u001B[38;5;124;03mThis package contains implementations of various streaming corpus I/O format.\u001B[39;00m\n\u001B[0;32m      3\u001B[0m \u001B[38;5;124;03m\"\"\"\u001B[39;00m\n\u001B[0;32m      5\u001B[0m \u001B[38;5;66;03m# bring corpus classes directly into package namespace, to save some typing\u001B[39;00m\n\u001B[1;32m----> 6\u001B[0m \u001B[38;5;28;01mfrom\u001B[39;00m \u001B[38;5;21;01m.\u001B[39;00m\u001B[38;5;21;01mindexedcorpus\u001B[39;00m \u001B[38;5;28;01mimport\u001B[39;00m IndexedCorpus  \u001B[38;5;66;03m# noqa:F401 must appear before the other classes\u001B[39;00m\n\u001B[0;32m      8\u001B[0m \u001B[38;5;28;01mfrom\u001B[39;00m \u001B[38;5;21;01m.\u001B[39;00m\u001B[38;5;21;01mmmcorpus\u001B[39;00m \u001B[38;5;28;01mimport\u001B[39;00m MmCorpus  \u001B[38;5;66;03m# noqa:F401\u001B[39;00m\n\u001B[0;32m      9\u001B[0m \u001B[38;5;28;01mfrom\u001B[39;00m \u001B[38;5;21;01m.\u001B[39;00m\u001B[38;5;21;01mbleicorpus\u001B[39;00m \u001B[38;5;28;01mimport\u001B[39;00m BleiCorpus  \u001B[38;5;66;03m# noqa:F401\u001B[39;00m\n",
      "File \u001B[1;32mC:\\env\\Lib\\site-packages\\gensim\\corpora\\indexedcorpus.py:15\u001B[0m\n\u001B[0;32m     11\u001B[0m \u001B[38;5;28;01mimport\u001B[39;00m \u001B[38;5;21;01msix\u001B[39;00m\n\u001B[0;32m     13\u001B[0m \u001B[38;5;28;01mimport\u001B[39;00m \u001B[38;5;21;01mnumpy\u001B[39;00m\n\u001B[1;32m---> 15\u001B[0m \u001B[38;5;28;01mfrom\u001B[39;00m \u001B[38;5;21;01mgensim\u001B[39;00m \u001B[38;5;28;01mimport\u001B[39;00m interfaces, utils\n\u001B[0;32m     17\u001B[0m logger \u001B[38;5;241m=\u001B[39m logging\u001B[38;5;241m.\u001B[39mgetLogger(\u001B[38;5;18m__name__\u001B[39m)\n\u001B[0;32m     20\u001B[0m \u001B[38;5;28;01mclass\u001B[39;00m \u001B[38;5;21;01mIndexedCorpus\u001B[39;00m(interfaces\u001B[38;5;241m.\u001B[39mCorpusABC):\n",
      "File \u001B[1;32mC:\\env\\Lib\\site-packages\\gensim\\interfaces.py:21\u001B[0m\n\u001B[0;32m     17\u001B[0m \u001B[38;5;28;01mfrom\u001B[39;00m \u001B[38;5;21;01m__future__\u001B[39;00m \u001B[38;5;28;01mimport\u001B[39;00m with_statement\n\u001B[0;32m     19\u001B[0m \u001B[38;5;28;01mimport\u001B[39;00m \u001B[38;5;21;01mlogging\u001B[39;00m\n\u001B[1;32m---> 21\u001B[0m \u001B[38;5;28;01mfrom\u001B[39;00m \u001B[38;5;21;01mgensim\u001B[39;00m \u001B[38;5;28;01mimport\u001B[39;00m utils, matutils\n\u001B[0;32m     22\u001B[0m \u001B[38;5;28;01mfrom\u001B[39;00m \u001B[38;5;21;01msix\u001B[39;00m\u001B[38;5;21;01m.\u001B[39;00m\u001B[38;5;21;01mmoves\u001B[39;00m \u001B[38;5;28;01mimport\u001B[39;00m \u001B[38;5;28mrange\u001B[39m\n\u001B[0;32m     25\u001B[0m logger \u001B[38;5;241m=\u001B[39m logging\u001B[38;5;241m.\u001B[39mgetLogger(\u001B[38;5;18m__name__\u001B[39m)\n",
      "File \u001B[1;32mC:\\env\\Lib\\site-packages\\gensim\\matutils.py:24\u001B[0m\n\u001B[0;32m     22\u001B[0m \u001B[38;5;28;01mimport\u001B[39;00m \u001B[38;5;21;01mscipy\u001B[39;00m\u001B[38;5;21;01m.\u001B[39;00m\u001B[38;5;21;01mlinalg\u001B[39;00m\n\u001B[0;32m     23\u001B[0m \u001B[38;5;28;01mfrom\u001B[39;00m \u001B[38;5;21;01mscipy\u001B[39;00m\u001B[38;5;21;01m.\u001B[39;00m\u001B[38;5;21;01mlinalg\u001B[39;00m\u001B[38;5;21;01m.\u001B[39;00m\u001B[38;5;21;01mlapack\u001B[39;00m \u001B[38;5;28;01mimport\u001B[39;00m get_lapack_funcs\n\u001B[1;32m---> 24\u001B[0m \u001B[38;5;28;01mfrom\u001B[39;00m \u001B[38;5;21;01mscipy\u001B[39;00m\u001B[38;5;21;01m.\u001B[39;00m\u001B[38;5;21;01mlinalg\u001B[39;00m\u001B[38;5;21;01m.\u001B[39;00m\u001B[38;5;21;01mspecial_matrices\u001B[39;00m \u001B[38;5;28;01mimport\u001B[39;00m triu\n\u001B[0;32m     25\u001B[0m \u001B[38;5;28;01mfrom\u001B[39;00m \u001B[38;5;21;01mscipy\u001B[39;00m\u001B[38;5;21;01m.\u001B[39;00m\u001B[38;5;21;01mspecial\u001B[39;00m \u001B[38;5;28;01mimport\u001B[39;00m psi  \u001B[38;5;66;03m# gamma function utils\u001B[39;00m\n\u001B[0;32m     27\u001B[0m \u001B[38;5;28;01mfrom\u001B[39;00m \u001B[38;5;21;01msix\u001B[39;00m \u001B[38;5;28;01mimport\u001B[39;00m iteritems, itervalues, string_types\n",
      "\u001B[1;31mImportError\u001B[0m: cannot import name 'triu' from 'scipy.linalg.special_matrices' (C:\\env\\Lib\\site-packages\\scipy\\linalg\\special_matrices.py)"
     ]
    }
   ],
   "execution_count": 6
  },
  {
   "metadata": {},
   "cell_type": "code",
   "source": [
    "# Assuming 'corpus.txt' contains your text corpus\n",
    "with open('corpus.txt') as f:\n",
    "    corpus = f.read().splitlines()"
   ],
   "outputs": [],
   "execution_count": null
  },
  {
   "metadata": {
    "ExecuteTime": {
     "end_time": "2024-06-06T02:04:15.943529Z",
     "start_time": "2024-06-06T02:04:15.673353Z"
    }
   },
   "cell_type": "code",
   "source": [
    "# Tokenize the corpus into words\n",
    "tokenized_corpus = [doc.lower().translate(translator).split() for doc in corpus]\n",
    "\n",
    "# Train Word2Vec model\n",
    "word2vec_model = Word2Vec(sentences=tokenized_corpus, vector_size=100, window=5, min_count=1, workers=4)\n"
   ],
   "outputs": [
    {
     "ename": "NameError",
     "evalue": "name 'Word2Vec' is not defined",
     "output_type": "error",
     "traceback": [
      "\u001B[1;31m---------------------------------------------------------------------------\u001B[0m",
      "\u001B[1;31mNameError\u001B[0m                                 Traceback (most recent call last)",
      "Cell \u001B[1;32mIn[261], line 5\u001B[0m\n\u001B[0;32m      2\u001B[0m tokenized_corpus \u001B[38;5;241m=\u001B[39m [doc\u001B[38;5;241m.\u001B[39mlower()\u001B[38;5;241m.\u001B[39mtranslate(translator)\u001B[38;5;241m.\u001B[39msplit() \u001B[38;5;28;01mfor\u001B[39;00m doc \u001B[38;5;129;01min\u001B[39;00m corpus]\n\u001B[0;32m      4\u001B[0m \u001B[38;5;66;03m# Train Word2Vec model\u001B[39;00m\n\u001B[1;32m----> 5\u001B[0m word2vec_model \u001B[38;5;241m=\u001B[39m \u001B[43mWord2Vec\u001B[49m(sentences\u001B[38;5;241m=\u001B[39mtokenized_corpus, vector_size\u001B[38;5;241m=\u001B[39m\u001B[38;5;241m100\u001B[39m, window\u001B[38;5;241m=\u001B[39m\u001B[38;5;241m5\u001B[39m, min_count\u001B[38;5;241m=\u001B[39m\u001B[38;5;241m1\u001B[39m, workers\u001B[38;5;241m=\u001B[39m\u001B[38;5;241m4\u001B[39m)\n",
      "\u001B[1;31mNameError\u001B[0m: name 'Word2Vec' is not defined"
     ]
    }
   ],
   "execution_count": 261
  },
  {
   "metadata": {},
   "cell_type": "code",
   "outputs": [],
   "execution_count": null,
   "source": [
    "# Function to get word embeddings\n",
    "def embed(word):\n",
    "    return word2vec_model.wv[word]\n"
   ]
  },
  {
   "metadata": {},
   "cell_type": "code",
   "outputs": [],
   "execution_count": null,
   "source": [
    "# Function to get sentence embedding (average of word embeddings)\n",
    "def embed_sentence(sentence):\n",
    "    words = sentence.split()\n",
    "    embeddings = [embed(word) for word in words if word in word2vec_model.wv]\n",
    "    if len(embeddings) == 0:\n",
    "        return None\n",
    "    return np.mean(embeddings, axis=0)"
   ]
  },
  {
   "metadata": {},
   "cell_type": "markdown",
   "source": ""
  },
  {
   "metadata": {},
   "cell_type": "code",
   "outputs": [],
   "execution_count": null,
   "source": ""
  },
  {
   "metadata": {},
   "cell_type": "markdown",
   "source": ""
  }
 ]
}
